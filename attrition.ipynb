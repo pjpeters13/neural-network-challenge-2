{
  "cells": [
    {
      "cell_type": "markdown",
      "metadata": {
        "id": "view-in-github",
        "colab_type": "text"
      },
      "source": [
        "<a href=\"https://colab.research.google.com/github/pjpeters13/neural-network-challenge-2/blob/main/attrition.ipynb\" target=\"_parent\"><img src=\"https://colab.research.google.com/assets/colab-badge.svg\" alt=\"Open In Colab\"/></a>"
      ]
    },
    {
      "cell_type": "markdown",
      "metadata": {
        "id": "alIIEHibGc3M"
      },
      "source": [
        "## Part 1: Preprocessing"
      ]
    },
    {
      "cell_type": "code",
      "execution_count": 1,
      "metadata": {
        "colab": {
          "base_uri": "https://localhost:8080/",
          "height": 325
        },
        "id": "6eDUJ4NtGc3P",
        "outputId": "9724e35c-600e-421e-fd67-a86b1372896b"
      },
      "outputs": [
        {
          "output_type": "execute_result",
          "data": {
            "text/plain": [
              "   Age Attrition     BusinessTravel              Department  DistanceFromHome  \\\n",
              "0   41       Yes      Travel_Rarely                   Sales                 1   \n",
              "1   49        No  Travel_Frequently  Research & Development                 8   \n",
              "2   37       Yes      Travel_Rarely  Research & Development                 2   \n",
              "3   33        No  Travel_Frequently  Research & Development                 3   \n",
              "4   27        No      Travel_Rarely  Research & Development                 2   \n",
              "\n",
              "   Education EducationField  EnvironmentSatisfaction  HourlyRate  \\\n",
              "0          2  Life Sciences                        2          94   \n",
              "1          1  Life Sciences                        3          61   \n",
              "2          2          Other                        4          92   \n",
              "3          4  Life Sciences                        4          56   \n",
              "4          1        Medical                        1          40   \n",
              "\n",
              "   JobInvolvement  ...  PerformanceRating RelationshipSatisfaction  \\\n",
              "0               3  ...                  3                        1   \n",
              "1               2  ...                  4                        4   \n",
              "2               2  ...                  3                        2   \n",
              "3               3  ...                  3                        3   \n",
              "4               3  ...                  3                        4   \n",
              "\n",
              "   StockOptionLevel TotalWorkingYears  TrainingTimesLastYear WorkLifeBalance  \\\n",
              "0                 0                 8                      0               1   \n",
              "1                 1                10                      3               3   \n",
              "2                 0                 7                      3               3   \n",
              "3                 0                 8                      3               3   \n",
              "4                 1                 6                      3               3   \n",
              "\n",
              "   YearsAtCompany  YearsInCurrentRole  YearsSinceLastPromotion  \\\n",
              "0               6                   4                        0   \n",
              "1              10                   7                        1   \n",
              "2               0                   0                        0   \n",
              "3               8                   7                        3   \n",
              "4               2                   2                        2   \n",
              "\n",
              "   YearsWithCurrManager  \n",
              "0                     5  \n",
              "1                     7  \n",
              "2                     0  \n",
              "3                     0  \n",
              "4                     2  \n",
              "\n",
              "[5 rows x 27 columns]"
            ],
            "text/html": [
              "\n",
              "  <div id=\"df-e73ca156-31ed-48a8-a174-6444a1e06d55\" class=\"colab-df-container\">\n",
              "    <div>\n",
              "<style scoped>\n",
              "    .dataframe tbody tr th:only-of-type {\n",
              "        vertical-align: middle;\n",
              "    }\n",
              "\n",
              "    .dataframe tbody tr th {\n",
              "        vertical-align: top;\n",
              "    }\n",
              "\n",
              "    .dataframe thead th {\n",
              "        text-align: right;\n",
              "    }\n",
              "</style>\n",
              "<table border=\"1\" class=\"dataframe\">\n",
              "  <thead>\n",
              "    <tr style=\"text-align: right;\">\n",
              "      <th></th>\n",
              "      <th>Age</th>\n",
              "      <th>Attrition</th>\n",
              "      <th>BusinessTravel</th>\n",
              "      <th>Department</th>\n",
              "      <th>DistanceFromHome</th>\n",
              "      <th>Education</th>\n",
              "      <th>EducationField</th>\n",
              "      <th>EnvironmentSatisfaction</th>\n",
              "      <th>HourlyRate</th>\n",
              "      <th>JobInvolvement</th>\n",
              "      <th>...</th>\n",
              "      <th>PerformanceRating</th>\n",
              "      <th>RelationshipSatisfaction</th>\n",
              "      <th>StockOptionLevel</th>\n",
              "      <th>TotalWorkingYears</th>\n",
              "      <th>TrainingTimesLastYear</th>\n",
              "      <th>WorkLifeBalance</th>\n",
              "      <th>YearsAtCompany</th>\n",
              "      <th>YearsInCurrentRole</th>\n",
              "      <th>YearsSinceLastPromotion</th>\n",
              "      <th>YearsWithCurrManager</th>\n",
              "    </tr>\n",
              "  </thead>\n",
              "  <tbody>\n",
              "    <tr>\n",
              "      <th>0</th>\n",
              "      <td>41</td>\n",
              "      <td>Yes</td>\n",
              "      <td>Travel_Rarely</td>\n",
              "      <td>Sales</td>\n",
              "      <td>1</td>\n",
              "      <td>2</td>\n",
              "      <td>Life Sciences</td>\n",
              "      <td>2</td>\n",
              "      <td>94</td>\n",
              "      <td>3</td>\n",
              "      <td>...</td>\n",
              "      <td>3</td>\n",
              "      <td>1</td>\n",
              "      <td>0</td>\n",
              "      <td>8</td>\n",
              "      <td>0</td>\n",
              "      <td>1</td>\n",
              "      <td>6</td>\n",
              "      <td>4</td>\n",
              "      <td>0</td>\n",
              "      <td>5</td>\n",
              "    </tr>\n",
              "    <tr>\n",
              "      <th>1</th>\n",
              "      <td>49</td>\n",
              "      <td>No</td>\n",
              "      <td>Travel_Frequently</td>\n",
              "      <td>Research &amp; Development</td>\n",
              "      <td>8</td>\n",
              "      <td>1</td>\n",
              "      <td>Life Sciences</td>\n",
              "      <td>3</td>\n",
              "      <td>61</td>\n",
              "      <td>2</td>\n",
              "      <td>...</td>\n",
              "      <td>4</td>\n",
              "      <td>4</td>\n",
              "      <td>1</td>\n",
              "      <td>10</td>\n",
              "      <td>3</td>\n",
              "      <td>3</td>\n",
              "      <td>10</td>\n",
              "      <td>7</td>\n",
              "      <td>1</td>\n",
              "      <td>7</td>\n",
              "    </tr>\n",
              "    <tr>\n",
              "      <th>2</th>\n",
              "      <td>37</td>\n",
              "      <td>Yes</td>\n",
              "      <td>Travel_Rarely</td>\n",
              "      <td>Research &amp; Development</td>\n",
              "      <td>2</td>\n",
              "      <td>2</td>\n",
              "      <td>Other</td>\n",
              "      <td>4</td>\n",
              "      <td>92</td>\n",
              "      <td>2</td>\n",
              "      <td>...</td>\n",
              "      <td>3</td>\n",
              "      <td>2</td>\n",
              "      <td>0</td>\n",
              "      <td>7</td>\n",
              "      <td>3</td>\n",
              "      <td>3</td>\n",
              "      <td>0</td>\n",
              "      <td>0</td>\n",
              "      <td>0</td>\n",
              "      <td>0</td>\n",
              "    </tr>\n",
              "    <tr>\n",
              "      <th>3</th>\n",
              "      <td>33</td>\n",
              "      <td>No</td>\n",
              "      <td>Travel_Frequently</td>\n",
              "      <td>Research &amp; Development</td>\n",
              "      <td>3</td>\n",
              "      <td>4</td>\n",
              "      <td>Life Sciences</td>\n",
              "      <td>4</td>\n",
              "      <td>56</td>\n",
              "      <td>3</td>\n",
              "      <td>...</td>\n",
              "      <td>3</td>\n",
              "      <td>3</td>\n",
              "      <td>0</td>\n",
              "      <td>8</td>\n",
              "      <td>3</td>\n",
              "      <td>3</td>\n",
              "      <td>8</td>\n",
              "      <td>7</td>\n",
              "      <td>3</td>\n",
              "      <td>0</td>\n",
              "    </tr>\n",
              "    <tr>\n",
              "      <th>4</th>\n",
              "      <td>27</td>\n",
              "      <td>No</td>\n",
              "      <td>Travel_Rarely</td>\n",
              "      <td>Research &amp; Development</td>\n",
              "      <td>2</td>\n",
              "      <td>1</td>\n",
              "      <td>Medical</td>\n",
              "      <td>1</td>\n",
              "      <td>40</td>\n",
              "      <td>3</td>\n",
              "      <td>...</td>\n",
              "      <td>3</td>\n",
              "      <td>4</td>\n",
              "      <td>1</td>\n",
              "      <td>6</td>\n",
              "      <td>3</td>\n",
              "      <td>3</td>\n",
              "      <td>2</td>\n",
              "      <td>2</td>\n",
              "      <td>2</td>\n",
              "      <td>2</td>\n",
              "    </tr>\n",
              "  </tbody>\n",
              "</table>\n",
              "<p>5 rows × 27 columns</p>\n",
              "</div>\n",
              "    <div class=\"colab-df-buttons\">\n",
              "\n",
              "  <div class=\"colab-df-container\">\n",
              "    <button class=\"colab-df-convert\" onclick=\"convertToInteractive('df-e73ca156-31ed-48a8-a174-6444a1e06d55')\"\n",
              "            title=\"Convert this dataframe to an interactive table.\"\n",
              "            style=\"display:none;\">\n",
              "\n",
              "  <svg xmlns=\"http://www.w3.org/2000/svg\" height=\"24px\" viewBox=\"0 -960 960 960\">\n",
              "    <path d=\"M120-120v-720h720v720H120Zm60-500h600v-160H180v160Zm220 220h160v-160H400v160Zm0 220h160v-160H400v160ZM180-400h160v-160H180v160Zm440 0h160v-160H620v160ZM180-180h160v-160H180v160Zm440 0h160v-160H620v160Z\"/>\n",
              "  </svg>\n",
              "    </button>\n",
              "\n",
              "  <style>\n",
              "    .colab-df-container {\n",
              "      display:flex;\n",
              "      gap: 12px;\n",
              "    }\n",
              "\n",
              "    .colab-df-convert {\n",
              "      background-color: #E8F0FE;\n",
              "      border: none;\n",
              "      border-radius: 50%;\n",
              "      cursor: pointer;\n",
              "      display: none;\n",
              "      fill: #1967D2;\n",
              "      height: 32px;\n",
              "      padding: 0 0 0 0;\n",
              "      width: 32px;\n",
              "    }\n",
              "\n",
              "    .colab-df-convert:hover {\n",
              "      background-color: #E2EBFA;\n",
              "      box-shadow: 0px 1px 2px rgba(60, 64, 67, 0.3), 0px 1px 3px 1px rgba(60, 64, 67, 0.15);\n",
              "      fill: #174EA6;\n",
              "    }\n",
              "\n",
              "    .colab-df-buttons div {\n",
              "      margin-bottom: 4px;\n",
              "    }\n",
              "\n",
              "    [theme=dark] .colab-df-convert {\n",
              "      background-color: #3B4455;\n",
              "      fill: #D2E3FC;\n",
              "    }\n",
              "\n",
              "    [theme=dark] .colab-df-convert:hover {\n",
              "      background-color: #434B5C;\n",
              "      box-shadow: 0px 1px 3px 1px rgba(0, 0, 0, 0.15);\n",
              "      filter: drop-shadow(0px 1px 2px rgba(0, 0, 0, 0.3));\n",
              "      fill: #FFFFFF;\n",
              "    }\n",
              "  </style>\n",
              "\n",
              "    <script>\n",
              "      const buttonEl =\n",
              "        document.querySelector('#df-e73ca156-31ed-48a8-a174-6444a1e06d55 button.colab-df-convert');\n",
              "      buttonEl.style.display =\n",
              "        google.colab.kernel.accessAllowed ? 'block' : 'none';\n",
              "\n",
              "      async function convertToInteractive(key) {\n",
              "        const element = document.querySelector('#df-e73ca156-31ed-48a8-a174-6444a1e06d55');\n",
              "        const dataTable =\n",
              "          await google.colab.kernel.invokeFunction('convertToInteractive',\n",
              "                                                    [key], {});\n",
              "        if (!dataTable) return;\n",
              "\n",
              "        const docLinkHtml = 'Like what you see? Visit the ' +\n",
              "          '<a target=\"_blank\" href=https://colab.research.google.com/notebooks/data_table.ipynb>data table notebook</a>'\n",
              "          + ' to learn more about interactive tables.';\n",
              "        element.innerHTML = '';\n",
              "        dataTable['output_type'] = 'display_data';\n",
              "        await google.colab.output.renderOutput(dataTable, element);\n",
              "        const docLink = document.createElement('div');\n",
              "        docLink.innerHTML = docLinkHtml;\n",
              "        element.appendChild(docLink);\n",
              "      }\n",
              "    </script>\n",
              "  </div>\n",
              "\n",
              "\n",
              "<div id=\"df-f7aac7c2-969c-4ca3-b9c1-d3f6bea7613d\">\n",
              "  <button class=\"colab-df-quickchart\" onclick=\"quickchart('df-f7aac7c2-969c-4ca3-b9c1-d3f6bea7613d')\"\n",
              "            title=\"Suggest charts\"\n",
              "            style=\"display:none;\">\n",
              "\n",
              "<svg xmlns=\"http://www.w3.org/2000/svg\" height=\"24px\"viewBox=\"0 0 24 24\"\n",
              "     width=\"24px\">\n",
              "    <g>\n",
              "        <path d=\"M19 3H5c-1.1 0-2 .9-2 2v14c0 1.1.9 2 2 2h14c1.1 0 2-.9 2-2V5c0-1.1-.9-2-2-2zM9 17H7v-7h2v7zm4 0h-2V7h2v10zm4 0h-2v-4h2v4z\"/>\n",
              "    </g>\n",
              "</svg>\n",
              "  </button>\n",
              "\n",
              "<style>\n",
              "  .colab-df-quickchart {\n",
              "      --bg-color: #E8F0FE;\n",
              "      --fill-color: #1967D2;\n",
              "      --hover-bg-color: #E2EBFA;\n",
              "      --hover-fill-color: #174EA6;\n",
              "      --disabled-fill-color: #AAA;\n",
              "      --disabled-bg-color: #DDD;\n",
              "  }\n",
              "\n",
              "  [theme=dark] .colab-df-quickchart {\n",
              "      --bg-color: #3B4455;\n",
              "      --fill-color: #D2E3FC;\n",
              "      --hover-bg-color: #434B5C;\n",
              "      --hover-fill-color: #FFFFFF;\n",
              "      --disabled-bg-color: #3B4455;\n",
              "      --disabled-fill-color: #666;\n",
              "  }\n",
              "\n",
              "  .colab-df-quickchart {\n",
              "    background-color: var(--bg-color);\n",
              "    border: none;\n",
              "    border-radius: 50%;\n",
              "    cursor: pointer;\n",
              "    display: none;\n",
              "    fill: var(--fill-color);\n",
              "    height: 32px;\n",
              "    padding: 0;\n",
              "    width: 32px;\n",
              "  }\n",
              "\n",
              "  .colab-df-quickchart:hover {\n",
              "    background-color: var(--hover-bg-color);\n",
              "    box-shadow: 0 1px 2px rgba(60, 64, 67, 0.3), 0 1px 3px 1px rgba(60, 64, 67, 0.15);\n",
              "    fill: var(--button-hover-fill-color);\n",
              "  }\n",
              "\n",
              "  .colab-df-quickchart-complete:disabled,\n",
              "  .colab-df-quickchart-complete:disabled:hover {\n",
              "    background-color: var(--disabled-bg-color);\n",
              "    fill: var(--disabled-fill-color);\n",
              "    box-shadow: none;\n",
              "  }\n",
              "\n",
              "  .colab-df-spinner {\n",
              "    border: 2px solid var(--fill-color);\n",
              "    border-color: transparent;\n",
              "    border-bottom-color: var(--fill-color);\n",
              "    animation:\n",
              "      spin 1s steps(1) infinite;\n",
              "  }\n",
              "\n",
              "  @keyframes spin {\n",
              "    0% {\n",
              "      border-color: transparent;\n",
              "      border-bottom-color: var(--fill-color);\n",
              "      border-left-color: var(--fill-color);\n",
              "    }\n",
              "    20% {\n",
              "      border-color: transparent;\n",
              "      border-left-color: var(--fill-color);\n",
              "      border-top-color: var(--fill-color);\n",
              "    }\n",
              "    30% {\n",
              "      border-color: transparent;\n",
              "      border-left-color: var(--fill-color);\n",
              "      border-top-color: var(--fill-color);\n",
              "      border-right-color: var(--fill-color);\n",
              "    }\n",
              "    40% {\n",
              "      border-color: transparent;\n",
              "      border-right-color: var(--fill-color);\n",
              "      border-top-color: var(--fill-color);\n",
              "    }\n",
              "    60% {\n",
              "      border-color: transparent;\n",
              "      border-right-color: var(--fill-color);\n",
              "    }\n",
              "    80% {\n",
              "      border-color: transparent;\n",
              "      border-right-color: var(--fill-color);\n",
              "      border-bottom-color: var(--fill-color);\n",
              "    }\n",
              "    90% {\n",
              "      border-color: transparent;\n",
              "      border-bottom-color: var(--fill-color);\n",
              "    }\n",
              "  }\n",
              "</style>\n",
              "\n",
              "  <script>\n",
              "    async function quickchart(key) {\n",
              "      const quickchartButtonEl =\n",
              "        document.querySelector('#' + key + ' button');\n",
              "      quickchartButtonEl.disabled = true;  // To prevent multiple clicks.\n",
              "      quickchartButtonEl.classList.add('colab-df-spinner');\n",
              "      try {\n",
              "        const charts = await google.colab.kernel.invokeFunction(\n",
              "            'suggestCharts', [key], {});\n",
              "      } catch (error) {\n",
              "        console.error('Error during call to suggestCharts:', error);\n",
              "      }\n",
              "      quickchartButtonEl.classList.remove('colab-df-spinner');\n",
              "      quickchartButtonEl.classList.add('colab-df-quickchart-complete');\n",
              "    }\n",
              "    (() => {\n",
              "      let quickchartButtonEl =\n",
              "        document.querySelector('#df-f7aac7c2-969c-4ca3-b9c1-d3f6bea7613d button');\n",
              "      quickchartButtonEl.style.display =\n",
              "        google.colab.kernel.accessAllowed ? 'block' : 'none';\n",
              "    })();\n",
              "  </script>\n",
              "</div>\n",
              "\n",
              "    </div>\n",
              "  </div>\n"
            ],
            "application/vnd.google.colaboratory.intrinsic+json": {
              "type": "dataframe",
              "variable_name": "attrition_df"
            }
          },
          "metadata": {},
          "execution_count": 1
        }
      ],
      "source": [
        "# Import our dependencies\n",
        "from sklearn.model_selection import train_test_split\n",
        "from sklearn.preprocessing import StandardScaler\n",
        "import pandas as pd\n",
        "import numpy as np\n",
        "from tensorflow.keras.models import Model\n",
        "from tensorflow.keras import layers\n",
        "from sklearn.preprocessing import LabelEncoder, OneHotEncoder\n",
        "\n",
        "#  Import and read the attrition data\n",
        "attrition_df = pd.read_csv('https://static.bc-edx.com/ai/ail-v-1-0/m19/lms/datasets/attrition.csv')\n",
        "attrition_df.head()"
      ]
    },
    {
      "cell_type": "code",
      "execution_count": 2,
      "metadata": {
        "colab": {
          "base_uri": "https://localhost:8080/"
        },
        "id": "g22aQSY4Gc3Q",
        "outputId": "26af877a-e2f0-4aa4-c616-2e9e2aaed4bb"
      },
      "outputs": [
        {
          "output_type": "execute_result",
          "data": {
            "text/plain": [
              "Age                         43\n",
              "Attrition                    2\n",
              "BusinessTravel               3\n",
              "Department                   3\n",
              "DistanceFromHome            29\n",
              "Education                    5\n",
              "EducationField               6\n",
              "EnvironmentSatisfaction      4\n",
              "HourlyRate                  71\n",
              "JobInvolvement               4\n",
              "JobLevel                     5\n",
              "JobRole                      9\n",
              "JobSatisfaction              4\n",
              "MaritalStatus                3\n",
              "NumCompaniesWorked          10\n",
              "OverTime                     2\n",
              "PercentSalaryHike           15\n",
              "PerformanceRating            2\n",
              "RelationshipSatisfaction     4\n",
              "StockOptionLevel             4\n",
              "TotalWorkingYears           40\n",
              "TrainingTimesLastYear        7\n",
              "WorkLifeBalance              4\n",
              "YearsAtCompany              37\n",
              "YearsInCurrentRole          19\n",
              "YearsSinceLastPromotion     16\n",
              "YearsWithCurrManager        18\n",
              "dtype: int64"
            ]
          },
          "metadata": {},
          "execution_count": 2
        }
      ],
      "source": [
        "# Determine the number of unique values in each column.\n",
        "attrition_df.nunique()"
      ]
    },
    {
      "cell_type": "code",
      "execution_count": 3,
      "metadata": {
        "id": "50vMgBEnJbfM"
      },
      "outputs": [],
      "source": [
        "# Create y_df with the Attrition and Department columns\n",
        "\n",
        "y_df = attrition_df[['Attrition', 'Department']]\n"
      ]
    },
    {
      "cell_type": "code",
      "execution_count": 4,
      "metadata": {
        "colab": {
          "base_uri": "https://localhost:8080/"
        },
        "id": "Virka0zLGc3R",
        "outputId": "dd9df994-0ae8-4189-cf3a-82e334a3518d"
      },
      "outputs": [
        {
          "output_type": "execute_result",
          "data": {
            "text/plain": [
              "Education                   int64\n",
              "Age                         int64\n",
              "DistanceFromHome            int64\n",
              "JobSatisfaction             int64\n",
              "OverTime                   object\n",
              "StockOptionLevel            int64\n",
              "WorkLifeBalance             int64\n",
              "YearsAtCompany              int64\n",
              "YearsSinceLastPromotion     int64\n",
              "NumCompaniesWorked          int64\n",
              "dtype: object"
            ]
          },
          "metadata": {},
          "execution_count": 4
        }
      ],
      "source": [
        "# Create a list of at least 10 column names to use as X data\n",
        "columns_x = [\"Education\" , \"Age\",  \"DistanceFromHome\", \"JobSatisfaction\", \"OverTime\", \"StockOptionLevel\", \"WorkLifeBalance\", \"YearsAtCompany\", \"YearsSinceLastPromotion\", \"NumCompaniesWorked\"]\n",
        "\n",
        "\n",
        "# Create X_df using your selected columns\n",
        "X_df = attrition_df[columns_x]\n",
        "\n",
        "# Show the data types for X_df\n",
        "X_df.dtypes\n"
      ]
    },
    {
      "cell_type": "code",
      "execution_count": 5,
      "metadata": {
        "id": "KaJfdOGUMHMR"
      },
      "outputs": [],
      "source": [
        "# Split the data into training and testing sets\n",
        "from sklearn.model_selection import train_test_split\n",
        "\n",
        "X_train, X_test, y_train, y_test = train_test_split(X_df, y_df, random_state=1)\n",
        "\n",
        "\n"
      ]
    },
    {
      "cell_type": "code",
      "source": [
        "# Create a LabelEncoder object\n",
        "over_time_le = LabelEncoder()\n",
        "\n",
        "# Transform the 'OverTime' column in the training data\n",
        "X_train['OverTime'] = over_time_le.fit_transform(X_train['OverTime'].values.ravel())\n",
        "\n",
        "# Transform the 'OverTime' column in the testing data\n",
        "X_test['OverTime'] = over_time_le.transform(X_test['OverTime'].values.ravel())\n",
        "\n",
        "# Optionally, display the count of each category in the training data\n",
        "X_train['OverTime'].value_counts()\n"
      ],
      "metadata": {
        "colab": {
          "base_uri": "https://localhost:8080/"
        },
        "id": "xWWrgKmS0QRD",
        "outputId": "6e2cb5a5-e7a0-4e29-d2ce-91a7d9717723"
      },
      "execution_count": 6,
      "outputs": [
        {
          "output_type": "execute_result",
          "data": {
            "text/plain": [
              "OverTime\n",
              "0    798\n",
              "1    304\n",
              "Name: count, dtype: int64"
            ]
          },
          "metadata": {},
          "execution_count": 6
        }
      ]
    },
    {
      "cell_type": "code",
      "execution_count": 7,
      "metadata": {
        "id": "EWA-aIA5Gc3T"
      },
      "outputs": [],
      "source": [
        "# Create a StandardScaler\n",
        "scaler = StandardScaler()\n",
        "\n",
        "# Fit the StandardScaler to the training data\n",
        "scaler.fit(X_train)\n",
        "\n",
        "# Scale the training and testing data\n",
        "\n",
        "X_train_scaled = scaler.transform(X_train)\n",
        "X_test_scaled = scaler.transform(X_test)\n"
      ]
    },
    {
      "cell_type": "code",
      "execution_count": 8,
      "metadata": {
        "id": "-z0Mky8vQSz4",
        "colab": {
          "base_uri": "https://localhost:8080/"
        },
        "outputId": "5a3d7c07-f283-455e-a3d8-138dc587a16f"
      },
      "outputs": [
        {
          "output_type": "execute_result",
          "data": {
            "text/plain": [
              "array([[0., 1., 0.],\n",
              "       [0., 1., 0.],\n",
              "       [0., 0., 1.],\n",
              "       ...,\n",
              "       [1., 0., 0.],\n",
              "       [0., 0., 1.],\n",
              "       [0., 0., 1.]])"
            ]
          },
          "metadata": {},
          "execution_count": 8
        }
      ],
      "source": [
        "# Create a OneHotEncoder for the Department column\n",
        "department_ohe = OneHotEncoder(sparse_output=False)\n",
        "\n",
        "# Fit the encoder to the training data\n",
        "department_ohe.fit(y_train[['Department']])\n",
        "\n",
        "\n",
        "# Create two new variables by applying the encoder\n",
        "# to the training and testing data\n",
        "y_train_department_encoded = department_ohe.transform(y_train[['Department']])\n",
        "y_test_department_encoded = department_ohe.transform(y_test[['Department']])\n",
        "\n",
        "y_train_department_encoded"
      ]
    },
    {
      "cell_type": "code",
      "execution_count": 9,
      "metadata": {
        "id": "-G4DSpvFRrk4",
        "colab": {
          "base_uri": "https://localhost:8080/"
        },
        "outputId": "24427310-0264-4748-d1ee-fc4bc4c901aa"
      },
      "outputs": [
        {
          "output_type": "execute_result",
          "data": {
            "text/plain": [
              "array([[1., 0.],\n",
              "       [1., 0.],\n",
              "       [0., 1.],\n",
              "       ...,\n",
              "       [1., 0.],\n",
              "       [1., 0.],\n",
              "       [1., 0.]])"
            ]
          },
          "metadata": {},
          "execution_count": 9
        }
      ],
      "source": [
        "# Create a OneHotEncoder for the Attrition column\n",
        "attrition_ohe = OneHotEncoder(sparse_output=False)\n",
        "\n",
        "# Fit the encoder to the training data\n",
        "attrition_ohe.fit(y_train[['Attrition']])\n",
        "\n",
        "\n",
        "# Create two new variables by applying the encoder\n",
        "# to the training and testing data\n",
        "y_train_attrition_encoded = attrition_ohe.transform(y_train[['Attrition']])\n",
        "y_test_attrition_encoded = attrition_ohe.transform(y_test[['Attrition']])\n",
        "\n",
        "y_train_attrition_encoded\n"
      ]
    },
    {
      "cell_type": "markdown",
      "metadata": {
        "id": "ykNmu_WWGc3T"
      },
      "source": [
        "## Create, Compile, and Train the Model"
      ]
    },
    {
      "cell_type": "code",
      "execution_count": 10,
      "metadata": {
        "id": "WUptZqmSGc3T"
      },
      "outputs": [],
      "source": [
        "# Find the number of columns in the X training data\n",
        "n_cols = X_train.shape[1]\n",
        "\n",
        "\n",
        "# Create the input layer\n",
        "input_layer = layers.Input(shape=(n_cols,), name = \"input\")\n",
        "\n",
        "\n",
        "# Create at least two shared layers\n",
        "shared_layer_1 = layers.Dense(64,activation=\"relu\",name=\"shared1\")(input_layer)\n",
        "shared_layer_2 = layers.Dense(128,activation=\"relu\",name=\"shared2\")(shared_layer_1)\n"
      ]
    },
    {
      "cell_type": "code",
      "execution_count": 17,
      "metadata": {
        "id": "JukjTm2yTEqd"
      },
      "outputs": [],
      "source": [
        "# Create a branch for Department\n",
        "# with a hidden layer and an output layer\n",
        "\n",
        "# Create the hidden layer\n",
        "department_hidden_layer = layers.Dense(32,activation=\"relu\", name = \"department_hidden\")(shared_layer_2)\n",
        "\n",
        "# Create the output layer\n",
        "department_output_layer = layers.Dense(3,activation=\"softmax\", name = \"department_output\")(department_hidden_layer)\n"
      ]
    },
    {
      "cell_type": "code",
      "execution_count": 30,
      "metadata": {
        "id": "9OqhUiOJUBkR"
      },
      "outputs": [],
      "source": [
        "# Create a branch for Attrition\n",
        "# with a hidden layer and an output layer\n",
        "\n",
        "# Create the hidden layer\n",
        "attrition_hidden_layer = layers.Dense(32,activation=\"relu\", name = \"attrition_hidden\")(shared_layer_2)\n",
        "\n",
        "# Create the output layer\n",
        "attrition_output_layer = layers.Dense(2,activation=\"sigmoid\", name = \"attrition_output\")(attrition_hidden_layer)\n"
      ]
    },
    {
      "cell_type": "code",
      "execution_count": 31,
      "metadata": {
        "id": "twmuejdxGc3T",
        "colab": {
          "base_uri": "https://localhost:8080/"
        },
        "outputId": "1f263a63-ffc2-4356-9683-663611b66165"
      },
      "outputs": [
        {
          "output_type": "stream",
          "name": "stdout",
          "text": [
            "Model: \"model_2\"\n",
            "__________________________________________________________________________________________________\n",
            " Layer (type)                Output Shape                 Param #   Connected to                  \n",
            "==================================================================================================\n",
            " input (InputLayer)          [(None, 10)]                 0         []                            \n",
            "                                                                                                  \n",
            " shared1 (Dense)             (None, 64)                   704       ['input[0][0]']               \n",
            "                                                                                                  \n",
            " shared2 (Dense)             (None, 128)                  8320      ['shared1[0][0]']             \n",
            "                                                                                                  \n",
            " department_hidden (Dense)   (None, 32)                   4128      ['shared2[0][0]']             \n",
            "                                                                                                  \n",
            " attrition_hidden (Dense)    (None, 32)                   4128      ['shared2[0][0]']             \n",
            "                                                                                                  \n",
            " department_output (Dense)   (None, 3)                    99        ['department_hidden[0][0]']   \n",
            "                                                                                                  \n",
            " attrition_output (Dense)    (None, 2)                    66        ['attrition_hidden[0][0]']    \n",
            "                                                                                                  \n",
            "==================================================================================================\n",
            "Total params: 17445 (68.14 KB)\n",
            "Trainable params: 17445 (68.14 KB)\n",
            "Non-trainable params: 0 (0.00 Byte)\n",
            "__________________________________________________________________________________________________\n"
          ]
        }
      ],
      "source": [
        "# Create the model\n",
        "model = Model(inputs=input_layer,outputs=[department_output_layer,attrition_output_layer])\n",
        "\n",
        "# Compile the model\n",
        "model.compile(optimizer=\"adam\",loss=[\"categorical_crossentropy\",\"binary_crossentropy\"],metrics=[\"accuracy\"])\n",
        "\n",
        "# Summarize the model\n",
        "model.summary()"
      ]
    },
    {
      "cell_type": "code",
      "execution_count": 32,
      "metadata": {
        "id": "c8oGy0dpGc3U",
        "colab": {
          "base_uri": "https://localhost:8080/"
        },
        "outputId": "cf469e98-6f62-4535-8d54-c585adc6b488"
      },
      "outputs": [
        {
          "output_type": "stream",
          "name": "stdout",
          "text": [
            "Epoch 1/100\n",
            "35/35 [==============================] - 2s 5ms/step - loss: 0.4423 - department_output_loss: 0.0137 - attrition_output_loss: 0.4286 - department_output_accuracy: 0.9982 - attrition_output_accuracy: 0.8294\n",
            "Epoch 2/100\n",
            "35/35 [==============================] - 0s 4ms/step - loss: 0.3559 - department_output_loss: 0.0115 - attrition_output_loss: 0.3444 - department_output_accuracy: 0.9955 - attrition_output_accuracy: 0.8666\n",
            "Epoch 3/100\n",
            "35/35 [==============================] - 0s 3ms/step - loss: 0.3343 - department_output_loss: 0.0184 - attrition_output_loss: 0.3159 - department_output_accuracy: 0.9973 - attrition_output_accuracy: 0.8775\n",
            "Epoch 4/100\n",
            "35/35 [==============================] - 0s 3ms/step - loss: 0.3027 - department_output_loss: 0.0099 - attrition_output_loss: 0.2928 - department_output_accuracy: 0.9964 - attrition_output_accuracy: 0.8857\n",
            "Epoch 5/100\n",
            "35/35 [==============================] - 0s 3ms/step - loss: 0.2881 - department_output_loss: 0.0146 - attrition_output_loss: 0.2735 - department_output_accuracy: 0.9955 - attrition_output_accuracy: 0.8929\n",
            "Epoch 6/100\n",
            "35/35 [==============================] - 0s 3ms/step - loss: 0.2529 - department_output_loss: 0.0052 - attrition_output_loss: 0.2477 - department_output_accuracy: 0.9982 - attrition_output_accuracy: 0.9029\n",
            "Epoch 7/100\n",
            "35/35 [==============================] - 0s 3ms/step - loss: 0.2317 - department_output_loss: 0.0030 - attrition_output_loss: 0.2287 - department_output_accuracy: 0.9991 - attrition_output_accuracy: 0.9111\n",
            "Epoch 8/100\n",
            "35/35 [==============================] - 0s 3ms/step - loss: 0.2070 - department_output_loss: 0.0014 - attrition_output_loss: 0.2056 - department_output_accuracy: 1.0000 - attrition_output_accuracy: 0.9156\n",
            "Epoch 9/100\n",
            "35/35 [==============================] - 0s 3ms/step - loss: 0.1903 - department_output_loss: 0.0012 - attrition_output_loss: 0.1891 - department_output_accuracy: 1.0000 - attrition_output_accuracy: 0.9292\n",
            "Epoch 10/100\n",
            "35/35 [==============================] - 0s 3ms/step - loss: 0.1718 - department_output_loss: 0.0013 - attrition_output_loss: 0.1705 - department_output_accuracy: 1.0000 - attrition_output_accuracy: 0.9383\n",
            "Epoch 11/100\n",
            "35/35 [==============================] - 0s 3ms/step - loss: 0.1526 - department_output_loss: 0.0013 - attrition_output_loss: 0.1513 - department_output_accuracy: 1.0000 - attrition_output_accuracy: 0.9456\n",
            "Epoch 12/100\n",
            "35/35 [==============================] - 0s 3ms/step - loss: 0.1475 - department_output_loss: 0.0014 - attrition_output_loss: 0.1461 - department_output_accuracy: 1.0000 - attrition_output_accuracy: 0.9528\n",
            "Epoch 13/100\n",
            "35/35 [==============================] - 0s 3ms/step - loss: 0.1296 - department_output_loss: 0.0013 - attrition_output_loss: 0.1283 - department_output_accuracy: 1.0000 - attrition_output_accuracy: 0.9610\n",
            "Epoch 14/100\n",
            "35/35 [==============================] - 0s 3ms/step - loss: 0.1157 - department_output_loss: 0.0013 - attrition_output_loss: 0.1144 - department_output_accuracy: 1.0000 - attrition_output_accuracy: 0.9664\n",
            "Epoch 15/100\n",
            "35/35 [==============================] - 0s 3ms/step - loss: 0.1084 - department_output_loss: 0.0013 - attrition_output_loss: 0.1071 - department_output_accuracy: 1.0000 - attrition_output_accuracy: 0.9737\n",
            "Epoch 16/100\n",
            "35/35 [==============================] - 0s 3ms/step - loss: 0.1099 - department_output_loss: 0.0014 - attrition_output_loss: 0.1086 - department_output_accuracy: 1.0000 - attrition_output_accuracy: 0.9646\n",
            "Epoch 17/100\n",
            "35/35 [==============================] - 0s 4ms/step - loss: 0.0896 - department_output_loss: 0.0014 - attrition_output_loss: 0.0883 - department_output_accuracy: 1.0000 - attrition_output_accuracy: 0.9764\n",
            "Epoch 18/100\n",
            "35/35 [==============================] - 0s 3ms/step - loss: 0.0762 - department_output_loss: 0.0014 - attrition_output_loss: 0.0748 - department_output_accuracy: 1.0000 - attrition_output_accuracy: 0.9873\n",
            "Epoch 19/100\n",
            "35/35 [==============================] - 0s 3ms/step - loss: 0.0684 - department_output_loss: 0.0013 - attrition_output_loss: 0.0671 - department_output_accuracy: 1.0000 - attrition_output_accuracy: 0.9855\n",
            "Epoch 20/100\n",
            "35/35 [==============================] - 0s 3ms/step - loss: 0.0633 - department_output_loss: 0.0014 - attrition_output_loss: 0.0618 - department_output_accuracy: 1.0000 - attrition_output_accuracy: 0.9864\n",
            "Epoch 21/100\n",
            "35/35 [==============================] - 0s 3ms/step - loss: 0.0562 - department_output_loss: 0.0019 - attrition_output_loss: 0.0543 - department_output_accuracy: 1.0000 - attrition_output_accuracy: 0.9936\n",
            "Epoch 22/100\n",
            "35/35 [==============================] - 0s 3ms/step - loss: 0.0959 - department_output_loss: 0.0485 - attrition_output_loss: 0.0474 - department_output_accuracy: 0.9855 - attrition_output_accuracy: 0.9936\n",
            "Epoch 23/100\n",
            "35/35 [==============================] - 0s 3ms/step - loss: 0.3180 - department_output_loss: 0.2599 - attrition_output_loss: 0.0581 - department_output_accuracy: 0.9229 - attrition_output_accuracy: 0.9846\n",
            "Epoch 24/100\n",
            "35/35 [==============================] - 0s 4ms/step - loss: 0.1913 - department_output_loss: 0.1364 - attrition_output_loss: 0.0549 - department_output_accuracy: 0.9555 - attrition_output_accuracy: 0.9900\n",
            "Epoch 25/100\n",
            "35/35 [==============================] - 0s 3ms/step - loss: 0.0803 - department_output_loss: 0.0313 - attrition_output_loss: 0.0491 - department_output_accuracy: 0.9918 - attrition_output_accuracy: 0.9909\n",
            "Epoch 26/100\n",
            "35/35 [==============================] - 0s 3ms/step - loss: 0.0515 - department_output_loss: 0.0104 - attrition_output_loss: 0.0411 - department_output_accuracy: 0.9973 - attrition_output_accuracy: 0.9946\n",
            "Epoch 27/100\n",
            "35/35 [==============================] - 0s 3ms/step - loss: 0.0405 - department_output_loss: 0.0029 - attrition_output_loss: 0.0375 - department_output_accuracy: 1.0000 - attrition_output_accuracy: 0.9946\n",
            "Epoch 28/100\n",
            "35/35 [==============================] - 0s 3ms/step - loss: 0.0337 - department_output_loss: 0.0020 - attrition_output_loss: 0.0317 - department_output_accuracy: 1.0000 - attrition_output_accuracy: 0.9955\n",
            "Epoch 29/100\n",
            "35/35 [==============================] - 0s 3ms/step - loss: 0.0301 - department_output_loss: 0.0019 - attrition_output_loss: 0.0283 - department_output_accuracy: 1.0000 - attrition_output_accuracy: 0.9955\n",
            "Epoch 30/100\n",
            "35/35 [==============================] - 0s 3ms/step - loss: 0.0289 - department_output_loss: 0.0017 - attrition_output_loss: 0.0272 - department_output_accuracy: 1.0000 - attrition_output_accuracy: 0.9973\n",
            "Epoch 31/100\n",
            "35/35 [==============================] - 0s 3ms/step - loss: 0.0248 - department_output_loss: 0.0015 - attrition_output_loss: 0.0233 - department_output_accuracy: 1.0000 - attrition_output_accuracy: 0.9991\n",
            "Epoch 32/100\n",
            "35/35 [==============================] - 0s 3ms/step - loss: 0.0224 - department_output_loss: 0.0015 - attrition_output_loss: 0.0209 - department_output_accuracy: 1.0000 - attrition_output_accuracy: 0.9982\n",
            "Epoch 33/100\n",
            "35/35 [==============================] - 0s 3ms/step - loss: 0.0202 - department_output_loss: 0.0014 - attrition_output_loss: 0.0189 - department_output_accuracy: 1.0000 - attrition_output_accuracy: 0.9973\n",
            "Epoch 34/100\n",
            "35/35 [==============================] - 0s 3ms/step - loss: 0.0186 - department_output_loss: 0.0013 - attrition_output_loss: 0.0173 - department_output_accuracy: 1.0000 - attrition_output_accuracy: 0.9991\n",
            "Epoch 35/100\n",
            "35/35 [==============================] - 0s 2ms/step - loss: 0.0170 - department_output_loss: 0.0013 - attrition_output_loss: 0.0157 - department_output_accuracy: 1.0000 - attrition_output_accuracy: 1.0000\n",
            "Epoch 36/100\n",
            "35/35 [==============================] - 0s 3ms/step - loss: 0.0163 - department_output_loss: 0.0012 - attrition_output_loss: 0.0150 - department_output_accuracy: 1.0000 - attrition_output_accuracy: 1.0000\n",
            "Epoch 37/100\n",
            "35/35 [==============================] - 0s 2ms/step - loss: 0.0156 - department_output_loss: 0.0012 - attrition_output_loss: 0.0145 - department_output_accuracy: 1.0000 - attrition_output_accuracy: 0.9973\n",
            "Epoch 38/100\n",
            "35/35 [==============================] - 0s 3ms/step - loss: 0.0136 - department_output_loss: 0.0011 - attrition_output_loss: 0.0125 - department_output_accuracy: 1.0000 - attrition_output_accuracy: 1.0000\n",
            "Epoch 39/100\n",
            "35/35 [==============================] - 0s 3ms/step - loss: 0.0127 - department_output_loss: 0.0011 - attrition_output_loss: 0.0117 - department_output_accuracy: 1.0000 - attrition_output_accuracy: 1.0000\n",
            "Epoch 40/100\n",
            "35/35 [==============================] - 0s 3ms/step - loss: 0.0116 - department_output_loss: 0.0011 - attrition_output_loss: 0.0105 - department_output_accuracy: 1.0000 - attrition_output_accuracy: 1.0000\n",
            "Epoch 41/100\n",
            "35/35 [==============================] - 0s 3ms/step - loss: 0.0111 - department_output_loss: 0.0010 - attrition_output_loss: 0.0101 - department_output_accuracy: 1.0000 - attrition_output_accuracy: 0.9991\n",
            "Epoch 42/100\n",
            "35/35 [==============================] - 0s 3ms/step - loss: 0.0125 - department_output_loss: 0.0010 - attrition_output_loss: 0.0115 - department_output_accuracy: 1.0000 - attrition_output_accuracy: 0.9982\n",
            "Epoch 43/100\n",
            "35/35 [==============================] - 0s 3ms/step - loss: 0.0122 - department_output_loss: 0.0010 - attrition_output_loss: 0.0112 - department_output_accuracy: 1.0000 - attrition_output_accuracy: 0.9982\n",
            "Epoch 44/100\n",
            "35/35 [==============================] - 0s 3ms/step - loss: 0.0116 - department_output_loss: 9.7158e-04 - attrition_output_loss: 0.0106 - department_output_accuracy: 1.0000 - attrition_output_accuracy: 0.9982\n",
            "Epoch 45/100\n",
            "35/35 [==============================] - 0s 2ms/step - loss: 0.0100 - department_output_loss: 9.5168e-04 - attrition_output_loss: 0.0090 - department_output_accuracy: 1.0000 - attrition_output_accuracy: 0.9991\n",
            "Epoch 46/100\n",
            "35/35 [==============================] - 0s 2ms/step - loss: 0.0097 - department_output_loss: 9.3387e-04 - attrition_output_loss: 0.0088 - department_output_accuracy: 1.0000 - attrition_output_accuracy: 0.9982\n",
            "Epoch 47/100\n",
            "35/35 [==============================] - 0s 3ms/step - loss: 0.0097 - department_output_loss: 9.0421e-04 - attrition_output_loss: 0.0088 - department_output_accuracy: 1.0000 - attrition_output_accuracy: 0.9991\n",
            "Epoch 48/100\n",
            "35/35 [==============================] - 0s 2ms/step - loss: 0.0079 - department_output_loss: 8.9155e-04 - attrition_output_loss: 0.0070 - department_output_accuracy: 1.0000 - attrition_output_accuracy: 0.9991\n",
            "Epoch 49/100\n",
            "35/35 [==============================] - 0s 2ms/step - loss: 0.0079 - department_output_loss: 8.6347e-04 - attrition_output_loss: 0.0071 - department_output_accuracy: 1.0000 - attrition_output_accuracy: 0.9991\n",
            "Epoch 50/100\n",
            "35/35 [==============================] - 0s 3ms/step - loss: 0.0088 - department_output_loss: 8.5925e-04 - attrition_output_loss: 0.0080 - department_output_accuracy: 1.0000 - attrition_output_accuracy: 0.9982\n",
            "Epoch 51/100\n",
            "35/35 [==============================] - 0s 3ms/step - loss: 0.0074 - department_output_loss: 8.5455e-04 - attrition_output_loss: 0.0066 - department_output_accuracy: 1.0000 - attrition_output_accuracy: 1.0000\n",
            "Epoch 52/100\n",
            "35/35 [==============================] - 0s 3ms/step - loss: 0.0081 - department_output_loss: 8.3714e-04 - attrition_output_loss: 0.0073 - department_output_accuracy: 1.0000 - attrition_output_accuracy: 0.9991\n",
            "Epoch 53/100\n",
            "35/35 [==============================] - 0s 3ms/step - loss: 0.0084 - department_output_loss: 8.0903e-04 - attrition_output_loss: 0.0075 - department_output_accuracy: 1.0000 - attrition_output_accuracy: 0.9973\n",
            "Epoch 54/100\n",
            "35/35 [==============================] - 0s 2ms/step - loss: 0.0061 - department_output_loss: 7.8703e-04 - attrition_output_loss: 0.0053 - department_output_accuracy: 1.0000 - attrition_output_accuracy: 0.9991\n",
            "Epoch 55/100\n",
            "35/35 [==============================] - 0s 3ms/step - loss: 0.0052 - department_output_loss: 7.6766e-04 - attrition_output_loss: 0.0045 - department_output_accuracy: 1.0000 - attrition_output_accuracy: 1.0000\n",
            "Epoch 56/100\n",
            "35/35 [==============================] - 0s 3ms/step - loss: 0.0077 - department_output_loss: 7.8215e-04 - attrition_output_loss: 0.0070 - department_output_accuracy: 1.0000 - attrition_output_accuracy: 0.9982\n",
            "Epoch 57/100\n",
            "35/35 [==============================] - 0s 3ms/step - loss: 0.0058 - department_output_loss: 7.5189e-04 - attrition_output_loss: 0.0050 - department_output_accuracy: 1.0000 - attrition_output_accuracy: 1.0000\n",
            "Epoch 58/100\n",
            "35/35 [==============================] - 0s 3ms/step - loss: 0.0072 - department_output_loss: 7.4021e-04 - attrition_output_loss: 0.0065 - department_output_accuracy: 1.0000 - attrition_output_accuracy: 0.9991\n",
            "Epoch 59/100\n",
            "35/35 [==============================] - 0s 3ms/step - loss: 0.0061 - department_output_loss: 7.2986e-04 - attrition_output_loss: 0.0054 - department_output_accuracy: 1.0000 - attrition_output_accuracy: 0.9982\n",
            "Epoch 60/100\n",
            "35/35 [==============================] - 0s 3ms/step - loss: 0.0070 - department_output_loss: 7.0454e-04 - attrition_output_loss: 0.0063 - department_output_accuracy: 1.0000 - attrition_output_accuracy: 0.9982\n",
            "Epoch 61/100\n",
            "35/35 [==============================] - 0s 3ms/step - loss: 0.0053 - department_output_loss: 7.0753e-04 - attrition_output_loss: 0.0046 - department_output_accuracy: 1.0000 - attrition_output_accuracy: 1.0000\n",
            "Epoch 62/100\n",
            "35/35 [==============================] - 0s 3ms/step - loss: 0.0040 - department_output_loss: 6.8837e-04 - attrition_output_loss: 0.0033 - department_output_accuracy: 1.0000 - attrition_output_accuracy: 1.0000\n",
            "Epoch 63/100\n",
            "35/35 [==============================] - 0s 3ms/step - loss: 0.0052 - department_output_loss: 6.5923e-04 - attrition_output_loss: 0.0045 - department_output_accuracy: 1.0000 - attrition_output_accuracy: 0.9991\n",
            "Epoch 64/100\n",
            "35/35 [==============================] - 0s 3ms/step - loss: 0.0053 - department_output_loss: 6.6530e-04 - attrition_output_loss: 0.0046 - department_output_accuracy: 1.0000 - attrition_output_accuracy: 1.0000\n",
            "Epoch 65/100\n",
            "35/35 [==============================] - 0s 3ms/step - loss: 0.0064 - department_output_loss: 6.9269e-04 - attrition_output_loss: 0.0057 - department_output_accuracy: 1.0000 - attrition_output_accuracy: 0.9991\n",
            "Epoch 66/100\n",
            "35/35 [==============================] - 0s 3ms/step - loss: 0.0084 - department_output_loss: 7.0109e-04 - attrition_output_loss: 0.0077 - department_output_accuracy: 1.0000 - attrition_output_accuracy: 0.9982\n",
            "Epoch 67/100\n",
            "35/35 [==============================] - 0s 3ms/step - loss: 0.0063 - department_output_loss: 7.0556e-04 - attrition_output_loss: 0.0056 - department_output_accuracy: 1.0000 - attrition_output_accuracy: 1.0000\n",
            "Epoch 68/100\n",
            "35/35 [==============================] - 0s 3ms/step - loss: 0.0035 - department_output_loss: 6.5450e-04 - attrition_output_loss: 0.0028 - department_output_accuracy: 1.0000 - attrition_output_accuracy: 1.0000\n",
            "Epoch 69/100\n",
            "35/35 [==============================] - 0s 3ms/step - loss: 0.0031 - department_output_loss: 6.1215e-04 - attrition_output_loss: 0.0025 - department_output_accuracy: 1.0000 - attrition_output_accuracy: 1.0000\n",
            "Epoch 70/100\n",
            "35/35 [==============================] - 0s 4ms/step - loss: 0.0033 - department_output_loss: 6.0996e-04 - attrition_output_loss: 0.0027 - department_output_accuracy: 1.0000 - attrition_output_accuracy: 1.0000\n",
            "Epoch 71/100\n",
            "35/35 [==============================] - 0s 4ms/step - loss: 0.0033 - department_output_loss: 5.9397e-04 - attrition_output_loss: 0.0027 - department_output_accuracy: 1.0000 - attrition_output_accuracy: 1.0000\n",
            "Epoch 72/100\n",
            "35/35 [==============================] - 0s 3ms/step - loss: 0.0037 - department_output_loss: 5.7015e-04 - attrition_output_loss: 0.0031 - department_output_accuracy: 1.0000 - attrition_output_accuracy: 1.0000\n",
            "Epoch 73/100\n",
            "35/35 [==============================] - 0s 2ms/step - loss: 0.0034 - department_output_loss: 5.8400e-04 - attrition_output_loss: 0.0029 - department_output_accuracy: 1.0000 - attrition_output_accuracy: 0.9991\n",
            "Epoch 74/100\n",
            "35/35 [==============================] - 0s 3ms/step - loss: 0.0045 - department_output_loss: 5.7792e-04 - attrition_output_loss: 0.0039 - department_output_accuracy: 1.0000 - attrition_output_accuracy: 0.9991\n",
            "Epoch 75/100\n",
            "35/35 [==============================] - 0s 3ms/step - loss: 0.0050 - department_output_loss: 5.5703e-04 - attrition_output_loss: 0.0044 - department_output_accuracy: 1.0000 - attrition_output_accuracy: 0.9991\n",
            "Epoch 76/100\n",
            "35/35 [==============================] - 0s 3ms/step - loss: 0.0107 - department_output_loss: 5.9147e-04 - attrition_output_loss: 0.0101 - department_output_accuracy: 1.0000 - attrition_output_accuracy: 0.9964\n",
            "Epoch 77/100\n",
            "35/35 [==============================] - 0s 3ms/step - loss: 0.0132 - department_output_loss: 6.9026e-04 - attrition_output_loss: 0.0126 - department_output_accuracy: 1.0000 - attrition_output_accuracy: 0.9955\n",
            "Epoch 78/100\n",
            "35/35 [==============================] - 0s 3ms/step - loss: 0.0095 - department_output_loss: 7.3195e-04 - attrition_output_loss: 0.0088 - department_output_accuracy: 1.0000 - attrition_output_accuracy: 0.9973\n",
            "Epoch 79/100\n",
            "35/35 [==============================] - 0s 3ms/step - loss: 0.0106 - department_output_loss: 8.4360e-04 - attrition_output_loss: 0.0097 - department_output_accuracy: 1.0000 - attrition_output_accuracy: 0.9964\n",
            "Epoch 80/100\n",
            "35/35 [==============================] - 0s 4ms/step - loss: 0.0056 - department_output_loss: 9.6753e-04 - attrition_output_loss: 0.0046 - department_output_accuracy: 1.0000 - attrition_output_accuracy: 0.9991\n",
            "Epoch 81/100\n",
            "35/35 [==============================] - 0s 3ms/step - loss: 0.0035 - department_output_loss: 7.2481e-04 - attrition_output_loss: 0.0028 - department_output_accuracy: 1.0000 - attrition_output_accuracy: 1.0000\n",
            "Epoch 82/100\n",
            "35/35 [==============================] - 0s 3ms/step - loss: 0.0388 - department_output_loss: 8.7982e-04 - attrition_output_loss: 0.0379 - department_output_accuracy: 1.0000 - attrition_output_accuracy: 0.9891\n",
            "Epoch 83/100\n",
            "35/35 [==============================] - 0s 3ms/step - loss: 0.0355 - department_output_loss: 0.0013 - attrition_output_loss: 0.0342 - department_output_accuracy: 1.0000 - attrition_output_accuracy: 0.9900\n",
            "Epoch 84/100\n",
            "35/35 [==============================] - 0s 2ms/step - loss: 0.0123 - department_output_loss: 0.0011 - attrition_output_loss: 0.0112 - department_output_accuracy: 1.0000 - attrition_output_accuracy: 0.9964\n",
            "Epoch 85/100\n",
            "35/35 [==============================] - 0s 3ms/step - loss: 0.0510 - department_output_loss: 0.0011 - attrition_output_loss: 0.0499 - department_output_accuracy: 1.0000 - attrition_output_accuracy: 0.9819\n",
            "Epoch 86/100\n",
            "35/35 [==============================] - 0s 3ms/step - loss: 0.0574 - department_output_loss: 0.0017 - attrition_output_loss: 0.0557 - department_output_accuracy: 1.0000 - attrition_output_accuracy: 0.9819\n",
            "Epoch 87/100\n",
            "35/35 [==============================] - 0s 2ms/step - loss: 0.0159 - department_output_loss: 0.0014 - attrition_output_loss: 0.0144 - department_output_accuracy: 1.0000 - attrition_output_accuracy: 0.9946\n",
            "Epoch 88/100\n",
            "35/35 [==============================] - 0s 2ms/step - loss: 0.0081 - department_output_loss: 9.8931e-04 - attrition_output_loss: 0.0071 - department_output_accuracy: 1.0000 - attrition_output_accuracy: 0.9982\n",
            "Epoch 89/100\n",
            "35/35 [==============================] - 0s 3ms/step - loss: 0.0049 - department_output_loss: 8.1126e-04 - attrition_output_loss: 0.0041 - department_output_accuracy: 1.0000 - attrition_output_accuracy: 0.9991\n",
            "Epoch 90/100\n",
            "35/35 [==============================] - 0s 3ms/step - loss: 0.0032 - department_output_loss: 7.2498e-04 - attrition_output_loss: 0.0025 - department_output_accuracy: 1.0000 - attrition_output_accuracy: 1.0000\n",
            "Epoch 91/100\n",
            "35/35 [==============================] - 0s 3ms/step - loss: 0.0022 - department_output_loss: 6.6081e-04 - attrition_output_loss: 0.0016 - department_output_accuracy: 1.0000 - attrition_output_accuracy: 1.0000\n",
            "Epoch 92/100\n",
            "35/35 [==============================] - 0s 6ms/step - loss: 0.0024 - department_output_loss: 6.1143e-04 - attrition_output_loss: 0.0018 - department_output_accuracy: 1.0000 - attrition_output_accuracy: 1.0000\n",
            "Epoch 93/100\n",
            "35/35 [==============================] - 0s 6ms/step - loss: 0.0021 - department_output_loss: 5.7967e-04 - attrition_output_loss: 0.0015 - department_output_accuracy: 1.0000 - attrition_output_accuracy: 1.0000\n",
            "Epoch 94/100\n",
            "35/35 [==============================] - 0s 6ms/step - loss: 0.0017 - department_output_loss: 5.5136e-04 - attrition_output_loss: 0.0012 - department_output_accuracy: 1.0000 - attrition_output_accuracy: 1.0000\n",
            "Epoch 95/100\n",
            "35/35 [==============================] - 0s 7ms/step - loss: 0.0018 - department_output_loss: 5.2803e-04 - attrition_output_loss: 0.0012 - department_output_accuracy: 1.0000 - attrition_output_accuracy: 1.0000\n",
            "Epoch 96/100\n",
            "35/35 [==============================] - 0s 5ms/step - loss: 0.0018 - department_output_loss: 5.1388e-04 - attrition_output_loss: 0.0012 - department_output_accuracy: 1.0000 - attrition_output_accuracy: 1.0000\n",
            "Epoch 97/100\n",
            "35/35 [==============================] - 0s 5ms/step - loss: 0.0018 - department_output_loss: 4.9091e-04 - attrition_output_loss: 0.0013 - department_output_accuracy: 1.0000 - attrition_output_accuracy: 1.0000\n",
            "Epoch 98/100\n",
            "35/35 [==============================] - 0s 5ms/step - loss: 0.0016 - department_output_loss: 4.8618e-04 - attrition_output_loss: 0.0011 - department_output_accuracy: 1.0000 - attrition_output_accuracy: 1.0000\n",
            "Epoch 99/100\n",
            "35/35 [==============================] - 0s 5ms/step - loss: 0.0015 - department_output_loss: 4.7625e-04 - attrition_output_loss: 0.0010 - department_output_accuracy: 1.0000 - attrition_output_accuracy: 1.0000\n",
            "Epoch 100/100\n",
            "35/35 [==============================] - 0s 4ms/step - loss: 0.0014 - department_output_loss: 4.4375e-04 - attrition_output_loss: 9.9335e-04 - department_output_accuracy: 1.0000 - attrition_output_accuracy: 1.0000\n"
          ]
        },
        {
          "output_type": "execute_result",
          "data": {
            "text/plain": [
              "<keras.src.callbacks.History at 0x7b90d543ac20>"
            ]
          },
          "metadata": {},
          "execution_count": 32
        }
      ],
      "source": [
        "# Train the model\n",
        "model.fit(X_train_scaled,[y_train_department_encoded,y_train_attrition_encoded],epochs=100,batch_size=32)"
      ]
    },
    {
      "cell_type": "code",
      "execution_count": 33,
      "metadata": {
        "id": "VsMoaQlgGc3U",
        "colab": {
          "base_uri": "https://localhost:8080/"
        },
        "outputId": "3dea5d0a-ed29-4725-ba99-89363f5d410d"
      },
      "outputs": [
        {
          "output_type": "stream",
          "name": "stdout",
          "text": [
            "12/12 [==============================] - 0s 4ms/step - loss: 7.3863 - department_output_loss: 5.5125 - attrition_output_loss: 1.8738 - department_output_accuracy: 0.5054 - attrition_output_accuracy: 0.7880\n"
          ]
        }
      ],
      "source": [
        "# Evaluate the model with the testing data\n",
        "loss, department_loss, attrition_loss, department_accuracy, attrition_accuracy = model.evaluate(X_test_scaled,[y_test_department_encoded,y_test_attrition_encoded])"
      ]
    },
    {
      "cell_type": "code",
      "execution_count": 34,
      "metadata": {
        "id": "ZlCtlHi0Vt54",
        "colab": {
          "base_uri": "https://localhost:8080/"
        },
        "outputId": "21603f36-2791-4a3f-a6ef-94cb903379ef"
      },
      "outputs": [
        {
          "output_type": "stream",
          "name": "stdout",
          "text": [
            "Department predictions accuracy: 0.5054348111152649\n",
            "Attrition predictions accuracy: 0.7880434989929199\n"
          ]
        }
      ],
      "source": [
        "# Print the accuracy for both department and attrition\n",
        "print(\"Department predictions accuracy: {}\".format(department_accuracy))\n",
        "print(\"Attrition predictions accuracy: {}\".format(attrition_accuracy))"
      ]
    },
    {
      "cell_type": "markdown",
      "metadata": {
        "id": "eGSyfsZfWOQM"
      },
      "source": [
        "# Summary\n",
        "\n",
        "In the provided space below, briefly answer the following questions.\n",
        "\n",
        "1. Is accuracy the best metric to use on this data? Why or why not?\n",
        "\n",
        "2. What activation functions did you choose for your output layers, and why?\n",
        "\n",
        "3. Can you name a few ways that this model might be improved?"
      ]
    },
    {
      "cell_type": "markdown",
      "metadata": {
        "id": "pi9SLpFnWvbF"
      },
      "source": [
        "YOUR ANSWERS HERE\n",
        "\n",
        "1. No, while accuracy can provide a quick snapshot of model performance, it's crucial to consider more nuanced metrics, especially in scenarios where class imbalance\n",
        "or the cost of different types of errors plays a significant role in the overall impact of the model's predictions.\n",
        "\n",
        "2. I used sigmoid activation function for the attrition branch because it is a binary problem, and for the department branch I used the softmax activation function.\n",
        "\n",
        "3. To improve the model I can use different features, also by adding the dropout layers in between the hidden layers, adding more hidden units and also more hidden layers\n"
      ]
    },
    {
      "cell_type": "markdown",
      "metadata": {
        "id": "RMxdGnF-rtgt"
      },
      "source": []
    }
  ],
  "metadata": {
    "colab": {
      "provenance": [],
      "include_colab_link": true
    },
    "kernelspec": {
      "display_name": "Python 3",
      "language": "python",
      "name": "python3"
    },
    "language_info": {
      "codemirror_mode": {
        "name": "ipython",
        "version": 3
      },
      "file_extension": ".py",
      "mimetype": "text/x-python",
      "name": "python",
      "nbconvert_exporter": "python",
      "pygments_lexer": "ipython3",
      "version": "3.9.18"
    },
    "vscode": {
      "interpreter": {
        "hash": "31f2aee4e71d21fbe5cf8b01ff0e069b9275f58929596ceb00d14d90e3e16cd6"
      }
    }
  },
  "nbformat": 4,
  "nbformat_minor": 0
}
